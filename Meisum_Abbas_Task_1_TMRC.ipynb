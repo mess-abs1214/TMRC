{
  "nbformat": 4,
  "nbformat_minor": 0,
  "metadata": {
    "colab": {
      "provenance": []
    },
    "kernelspec": {
      "name": "python3",
      "display_name": "Python 3"
    },
    "language_info": {
      "name": "python"
    }
  },
  "cells": [
    {
      "cell_type": "code",
      "execution_count": 1,
      "metadata": {
        "colab": {
          "base_uri": "https://localhost:8080/"
        },
        "id": "o-WlvXe9UgHd",
        "outputId": "061aef45-41a8-4b74-d224-f9d4f959f8d1"
      },
      "outputs": [
        {
          "output_type": "stream",
          "name": "stdout",
          "text": [
            "[10, 20, 30, 'world', 6.28, 14, 30]\n",
            "[10, 20, 30, 30, 'world', 6.28, 14, 30]\n",
            "[10, 20, 30, 30, 'world', 6.28, 14, 30, 'extra', 'values']\n",
            "[10, 20, 30, 'world', 6.28, 14, 30, 'extra', 'values']\n",
            "[10, 20, 30, 6.28, 14, 30, 'extra', 'values']\n",
            "1\n",
            "[10, 20, 30, 6.28, 14, 30, 'extra', 'values']\n",
            "2\n",
            "[10, 20, 30, 6.28, 14, 30, 'extra', 'values']\n",
            "['values', 'extra', 30, 14, 6.28, 30, 20, 10]\n",
            "[30, 14, 6.28, 30, 20, 10]\n",
            "[6.28, 10, 14, 20, 30, 30]\n",
            "[]\n"
          ]
        }
      ],
      "source": [
        "items = [10, 20, 30, \"world\", 6.28, 14]\n",
        "element = 30\n",
        "position = 3\n",
        "extras = ['extra', 'values']\n",
        "\n",
        "items.append(element)\n",
        "print(items)\n",
        "items.insert(position, element)\n",
        "print(items)\n",
        "items.extend(extras)\n",
        "print(items)\n",
        "items.remove(element)\n",
        "print(items)\n",
        "items.pop(position)\n",
        "print(items)\n",
        "print(items.index(20))\n",
        "print(items)\n",
        "print(items.count(element))\n",
        "print(items)\n",
        "items.reverse()\n",
        "print(items)\n",
        "\n",
        "items.remove('extra')\n",
        "items.remove('values')\n",
        "print(items)\n",
        "items.sort()\n",
        "print(items)\n",
        "items.clear()\n",
        "print(items)"
      ]
    },
    {
      "cell_type": "code",
      "source": [
        "coordinates = (5, 10, 15, 10, 25, 10, \"world\", 6.28)\n",
        "target = 10\n",
        "print(\"Tuple:\", coordinates)\n",
        "print(\"Index of target (10):\", coordinates.index(target))\n",
        "print(\"Count of target (10):\", coordinates.count(target))\n",
        "print(\"Length of tuple:\", len(coordinates))"
      ],
      "metadata": {
        "colab": {
          "base_uri": "https://localhost:8080/"
        },
        "id": "l7TMEoVaViYx",
        "outputId": "32667c0b-7442-4c53-bb31-b95b20c5957a"
      },
      "execution_count": 2,
      "outputs": [
        {
          "output_type": "stream",
          "name": "stdout",
          "text": [
            "Tuple: (5, 10, 15, 10, 25, 10, 'world', 6.28)\n",
            "Index of target (10): 1\n",
            "Count of target (10): 3\n",
            "Length of tuple: 8\n"
          ]
        }
      ]
    },
    {
      "cell_type": "code",
      "source": [
        "profile = {\"username\": \"Ali\", \"id\": 101, \"location\": \"KHI\"}\n",
        "print(profile.get(\"username\"))\n",
        "print(profile.keys())\n",
        "print(profile.values())\n",
        "print(profile.items())\n",
        "profile.update({\"country\": \"Pakistan\"})\n",
        "print(profile)\n",
        "profile.pop(\"username\")\n",
        "print(profile)\n",
        "profile.popitem()\n",
        "print(profile)\n",
        "copy_profile = profile.copy()\n",
        "print(copy_profile)\n",
        "profile.setdefault(\"status\", \"active\")\n",
        "print(profile)\n",
        "del profile[\"location\"]\n",
        "print(profile)"
      ],
      "metadata": {
        "colab": {
          "base_uri": "https://localhost:8080/"
        },
        "id": "jiX4Q6AWViaS",
        "outputId": "5063032c-1656-4a88-b481-65ad65ef5391"
      },
      "execution_count": 3,
      "outputs": [
        {
          "output_type": "stream",
          "name": "stdout",
          "text": [
            "Ali\n",
            "dict_keys(['username', 'id', 'location'])\n",
            "dict_values(['Ali', 101, 'KHI'])\n",
            "dict_items([('username', 'Ali'), ('id', 101), ('location', 'KHI')])\n",
            "{'username': 'Ali', 'id': 101, 'location': 'KHI', 'country': 'Pakistan'}\n",
            "{'id': 101, 'location': 'KHI', 'country': 'Pakistan'}\n",
            "{'id': 101, 'location': 'KHI'}\n",
            "{'id': 101, 'location': 'KHI'}\n",
            "{'id': 101, 'location': 'KHI', 'status': 'active'}\n",
            "{'id': 101, 'status': 'active'}\n"
          ]
        }
      ]
    },
    {
      "cell_type": "code",
      "source": [
        "X = {11, 22, 33}\n",
        "Y = {33, 44, 55}\n",
        "X.add(66)\n",
        "print(\"After add:\", X)\n",
        "X.update([77, 88])\n",
        "print(\"After update:\", X)\n",
        "X.remove(22)\n",
        "print(\"After remove:\", X)\n",
        "X.discard(99)\n",
        "print(\"After discard:\", X)\n",
        "item = X.pop()\n",
        "print(\"Popped element:\", item)\n",
        "print(\"Union:\", X.union(Y))\n",
        "print(\"Intersection:\", X.intersection(Y))\n",
        "print(\"Difference X-Y:\", X.difference(Y))\n",
        "print(\"Symmetric Difference:\", X.symmetric_difference(Y))\n",
        "print(\"Is X subset of Y?\", X.issubset(Y))\n",
        "print(\"Is X superset of Y?\", X.issuperset(Y))\n",
        "print(\"Are X and Y disjoint?\", X.isdisjoint(Y))\n",
        "X.clear()\n",
        "print(\"After clear:\", X)"
      ],
      "metadata": {
        "colab": {
          "base_uri": "https://localhost:8080/"
        },
        "id": "yzJj2AgMVidZ",
        "outputId": "6fd016ee-6cef-4cdb-9ac5-b8ae33679b07"
      },
      "execution_count": 4,
      "outputs": [
        {
          "output_type": "stream",
          "name": "stdout",
          "text": [
            "After add: {33, 66, 11, 22}\n",
            "After update: {33, 66, 11, 77, 22, 88}\n",
            "After remove: {33, 66, 11, 77, 88}\n",
            "After discard: {33, 66, 11, 77, 88}\n",
            "Popped element: 33\n",
            "Union: {33, 66, 55, 88, 11, 44, 77}\n",
            "Intersection: set()\n",
            "Difference X-Y: {88, 66, 11, 77}\n",
            "Symmetric Difference: {33, 66, 11, 44, 77, 55, 88}\n",
            "Is X subset of Y? False\n",
            "Is X superset of Y? False\n",
            "Are X and Y disjoint? True\n",
            "After clear: set()\n"
          ]
        }
      ]
    },
    {
      "cell_type": "code",
      "source": [
        "for n in range(5):\n",
        "  print(n)\n",
        "\n",
        "data = [11,12,14,15,11,13,12,10,15]\n",
        "for j in range(len(data)):\n",
        "  print(data[j])"
      ],
      "metadata": {
        "colab": {
          "base_uri": "https://localhost:8080/"
        },
        "id": "szem8hdHVih4",
        "outputId": "00bbecfe-c20a-42d9-d032-876317677667"
      },
      "execution_count": 6,
      "outputs": [
        {
          "output_type": "stream",
          "name": "stdout",
          "text": [
            "0\n",
            "1\n",
            "2\n",
            "3\n",
            "4\n",
            "11\n",
            "12\n",
            "14\n",
            "15\n",
            "11\n",
            "13\n",
            "12\n",
            "10\n",
            "15\n"
          ]
        }
      ]
    },
    {
      "cell_type": "code",
      "source": [
        "def total_sum(*values):\n",
        "    print(values)\n",
        "    print(sum(values))\n",
        "\n",
        "total_sum(5, 10, 15, 20)"
      ],
      "metadata": {
        "colab": {
          "base_uri": "https://localhost:8080/"
        },
        "id": "M3P67pFDVijY",
        "outputId": "4b3a7823-a1a4-4408-ad7b-688e54cae421"
      },
      "execution_count": 7,
      "outputs": [
        {
          "output_type": "stream",
          "name": "stdout",
          "text": [
            "(5, 10, 15, 20)\n",
            "50\n"
          ]
        }
      ]
    },
    {
      "cell_type": "code",
      "source": [
        "def display_info(**kwargs):\n",
        "    for attr, val in kwargs.items():\n",
        "        print(attr, \"=\", val)\n",
        "\n",
        "display_info(username=\"Ali\", age=25)"
      ],
      "metadata": {
        "colab": {
          "base_uri": "https://localhost:8080/"
        },
        "id": "U0RV8fEEWIBo",
        "outputId": "634b668b-4f48-49dc-b2bd-493995a08d5b"
      },
      "execution_count": 8,
      "outputs": [
        {
          "output_type": "stream",
          "name": "stdout",
          "text": [
            "username = Ali\n",
            "age = 25\n"
          ]
        }
      ]
    },
    {
      "cell_type": "code",
      "source": [
        "def product_specs(**kwargs):\n",
        "    print(\"Specs:\")\n",
        "    for attr, val in kwargs.items():\n",
        "        print(f\"{attr}: {val}\")\n",
        "\n",
        "product_specs(name=\"Foundation\", price=2500, brand=\"Loreal\", shade=\"Beige\")"
      ],
      "metadata": {
        "colab": {
          "base_uri": "https://localhost:8080/"
        },
        "id": "rRL2h43eWIDK",
        "outputId": "aa7ad598-8ce1-4f5b-ec3a-c3bc37e61168"
      },
      "execution_count": 9,
      "outputs": [
        {
          "output_type": "stream",
          "name": "stdout",
          "text": [
            "Specs:\n",
            "name: Foundation\n",
            "price: 2500\n",
            "brand: Loreal\n",
            "shade: Beige\n"
          ]
        }
      ]
    },
    {
      "cell_type": "code",
      "source": [
        "values = [100, 200, 300]\n",
        "itr_obj = iter(values)\n",
        "print(next(itr_obj))\n",
        "print(next(itr_obj))\n",
        "print(next(itr_obj))"
      ],
      "metadata": {
        "colab": {
          "base_uri": "https://localhost:8080/"
        },
        "id": "ptU82qVMWIGj",
        "outputId": "99f3dbcb-ceff-4649-d819-278eb17e82d8"
      },
      "execution_count": 10,
      "outputs": [
        {
          "output_type": "stream",
          "name": "stdout",
          "text": [
            "100\n",
            "200\n",
            "300\n"
          ]
        }
      ]
    },
    {
      "cell_type": "code",
      "source": [
        "def gen_counter(n):\n",
        "    a = 1\n",
        "    while a <= n:\n",
        "        yield a\n",
        "        a += 1\n",
        "\n",
        "seq = gen_counter(3)\n",
        "print(next(seq))\n",
        "print(next(seq))\n",
        "print(next(seq))"
      ],
      "metadata": {
        "colab": {
          "base_uri": "https://localhost:8080/"
        },
        "id": "nHGC_uogWIIR",
        "outputId": "9f5be64f-16d4-4edc-dd40-325a432290a4"
      },
      "execution_count": 11,
      "outputs": [
        {
          "output_type": "stream",
          "name": "stdout",
          "text": [
            "1\n",
            "2\n",
            "3\n"
          ]
        }
      ]
    },
    {
      "cell_type": "code",
      "source": [
        "def greet_gen():\n",
        "    yield \"Hi\"\n",
        "    yield \"Ali\"\n",
        "\n",
        "output = greet_gen()\n",
        "print(next(output))\n",
        "print(next(output))"
      ],
      "metadata": {
        "colab": {
          "base_uri": "https://localhost:8080/"
        },
        "id": "fWCwvy0GWIK7",
        "outputId": "1e836a2c-443d-45cf-9cad-abbc26eb91f0"
      },
      "execution_count": 12,
      "outputs": [
        {
          "output_type": "stream",
          "name": "stdout",
          "text": [
            "Hi\n",
            "Ali\n"
          ]
        }
      ]
    },
    {
      "cell_type": "code",
      "source": [
        "def welcome(name=\"Ali\"):\n",
        "    print(\"Hi\", name)\n",
        "\n",
        "welcome()\n",
        "welcome(\"Hira\")"
      ],
      "metadata": {
        "colab": {
          "base_uri": "https://localhost:8080/"
        },
        "id": "vqBfAN3VWIMd",
        "outputId": "ea54489d-71a5-46fd-a288-ef0d168202d8"
      },
      "execution_count": 13,
      "outputs": [
        {
          "output_type": "stream",
          "name": "stdout",
          "text": [
            "Hi Ali\n",
            "Hi Hira\n"
          ]
        }
      ]
    },
    {
      "cell_type": "code",
      "source": [
        "!pip install django"
      ],
      "metadata": {
        "colab": {
          "base_uri": "https://localhost:8080/"
        },
        "id": "yHrs2kzYWg4s",
        "outputId": "90e82013-a717-489d-b7d2-5670a96002a6"
      },
      "execution_count": 14,
      "outputs": [
        {
          "output_type": "stream",
          "name": "stdout",
          "text": [
            "Collecting django\n",
            "  Downloading django-5.2.4-py3-none-any.whl.metadata (4.1 kB)\n",
            "Collecting asgiref>=3.8.1 (from django)\n",
            "  Downloading asgiref-3.9.1-py3-none-any.whl.metadata (9.3 kB)\n",
            "Requirement already satisfied: sqlparse>=0.3.1 in /usr/local/lib/python3.11/dist-packages (from django) (0.5.3)\n",
            "Downloading django-5.2.4-py3-none-any.whl (8.3 MB)\n",
            "\u001b[2K   \u001b[90m━━━━━━━━━━━━━━━━━━━━━━━━━━━━━━━━━━━━━━━━\u001b[0m \u001b[32m8.3/8.3 MB\u001b[0m \u001b[31m51.0 MB/s\u001b[0m eta \u001b[36m0:00:00\u001b[0m\n",
            "\u001b[?25hDownloading asgiref-3.9.1-py3-none-any.whl (23 kB)\n",
            "Installing collected packages: asgiref, django\n",
            "Successfully installed asgiref-3.9.1 django-5.2.4\n"
          ]
        }
      ]
    },
    {
      "cell_type": "code",
      "source": [
        "def say_hello(name=None):\n",
        "  if not name:\n",
        "    print(\"hi....\")\n",
        "  else:\n",
        "    print(f\"hi {name}\")\n",
        "\n",
        "username = input(\"Enter your name: \")\n",
        "say_hello(username)"
      ],
      "metadata": {
        "colab": {
          "base_uri": "https://localhost:8080/"
        },
        "id": "3ytD0X1BWg6W",
        "outputId": "00b5c303-dbfd-4c36-adc8-83f2486348a5"
      },
      "execution_count": 15,
      "outputs": [
        {
          "output_type": "stream",
          "name": "stdout",
          "text": [
            "Enter your name: Meisum\n",
            "hi Meisum\n"
          ]
        }
      ]
    },
    {
      "cell_type": "code",
      "source": [
        "nums = [2,4,6,8,10]\n",
        "squares = [i**2 for i in nums]\n",
        "print(squares)"
      ],
      "metadata": {
        "colab": {
          "base_uri": "https://localhost:8080/"
        },
        "id": "xnMfItgyWg9v",
        "outputId": "7ca869b2-c6e1-437d-ebfd-2d89ae1de389"
      },
      "execution_count": 16,
      "outputs": [
        {
          "output_type": "stream",
          "name": "stdout",
          "text": [
            "[4, 16, 36, 64, 100]\n"
          ]
        }
      ]
    },
    {
      "cell_type": "code",
      "source": [
        "class Creature:\n",
        "    def speak(self):\n",
        "        print(\"Creature makes sound\")\n",
        "\n",
        "class Cat(Creature):\n",
        "    def meow(self):\n",
        "        print(\"Cat meows\")\n",
        "\n",
        "pet = Cat()\n",
        "pet.speak()\n",
        "pet.meow()"
      ],
      "metadata": {
        "colab": {
          "base_uri": "https://localhost:8080/"
        },
        "id": "OEVBaNnjWg_S",
        "outputId": "78d1e86d-5818-42eb-8495-bfc12390a455"
      },
      "execution_count": 17,
      "outputs": [
        {
          "output_type": "stream",
          "name": "stdout",
          "text": [
            "Creature makes sound\n",
            "Cat meows\n"
          ]
        }
      ]
    },
    {
      "cell_type": "code",
      "source": [
        "class Subject:\n",
        "  def credit(self):\n",
        "    print(4)\n",
        "\n",
        "class physics(Subject):\n",
        "  def marks(self):\n",
        "    print(\"75\")\n",
        "\n",
        "s = physics()\n",
        "s.credit()\n",
        "s.marks()"
      ],
      "metadata": {
        "colab": {
          "base_uri": "https://localhost:8080/"
        },
        "id": "NvMVoDHHWhCi",
        "outputId": "0031c9db-b923-4875-b569-4f0b0331bb6a"
      },
      "execution_count": 18,
      "outputs": [
        {
          "output_type": "stream",
          "name": "stdout",
          "text": [
            "4\n",
            "75\n"
          ]
        }
      ]
    }
  ]
}