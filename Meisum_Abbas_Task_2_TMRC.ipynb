{
  "nbformat": 4,
  "nbformat_minor": 0,
  "metadata": {
    "colab": {
      "provenance": []
    },
    "kernelspec": {
      "name": "python3",
      "display_name": "Python 3"
    },
    "language_info": {
      "name": "python"
    }
  },
  "cells": [
    {
      "cell_type": "code",
      "execution_count": 6,
      "metadata": {
        "id": "yvhmYJ2OY6Qq"
      },
      "outputs": [],
      "source": [
        "def say_hi():\n",
        "    print(\"Greetings!\")"
      ]
    },
    {
      "cell_type": "code",
      "source": [
        "def booster(base_function):\n",
        "    def upgraded():\n",
        "        print(\"Preparing environment...\")\n",
        "        base_function()\n",
        "        print(\"Process finished.\")\n",
        "    return upgraded\n",
        "\n",
        "@booster\n",
        "def display_welcome():\n",
        "    print(\"Welcome aboard!\")"
      ],
      "metadata": {
        "id": "bBQr-MBxY7aK"
      },
      "execution_count": 12,
      "outputs": []
    },
    {
      "cell_type": "code",
      "source": [
        "# Equivalent alternative without @ syntax:\n",
        "# display_welcome = booster(display_welcome)\n",
        "\n",
        "display_welcome()"
      ],
      "metadata": {
        "colab": {
          "base_uri": "https://localhost:8080/"
        },
        "id": "uvdnEJj6ZS0-",
        "outputId": "686aff46-4195-4064-b1f4-dd453396749a"
      },
      "execution_count": 13,
      "outputs": [
        {
          "output_type": "stream",
          "name": "stdout",
          "text": [
            "Preparing environment...\n",
            "Welcome aboard!\n",
            "Process finished.\n"
          ]
        }
      ]
    },
    {
      "cell_type": "code",
      "source": [
        "def notify():\n",
        "    print(\"Launching program...\")\n",
        "\n",
        "def layer(func):\n",
        "    def wrapper():\n",
        "        print(\"Before function runs\")\n",
        "        func()\n",
        "        print(\"After function runs\")\n",
        "    return wrapper\n",
        "\n",
        "enhanced_notify = layer(notify)\n",
        "enhanced_notify()"
      ],
      "metadata": {
        "colab": {
          "base_uri": "https://localhost:8080/"
        },
        "id": "bhrLYm9xZYbU",
        "outputId": "5b940381-107b-48d0-94d5-9e7a9bcd9296"
      },
      "execution_count": 14,
      "outputs": [
        {
          "output_type": "stream",
          "name": "stdout",
          "text": [
            "Before function runs\n",
            "Launching program...\n",
            "After function runs\n"
          ]
        }
      ]
    },
    {
      "cell_type": "code",
      "source": [
        "class Learner:\n",
        "    @staticmethod\n",
        "    def institute_name():\n",
        "        print(\"Knowledge Tree Academy\")\n",
        "\n",
        "Learner.institute_name()"
      ],
      "metadata": {
        "colab": {
          "base_uri": "https://localhost:8080/"
        },
        "id": "ZaotEV2fZc0z",
        "outputId": "cd25b9b9-801f-4d91-dc05-9aae0a65c722"
      },
      "execution_count": 15,
      "outputs": [
        {
          "output_type": "stream",
          "name": "stdout",
          "text": [
            "Knowledge Tree Academy\n"
          ]
        }
      ]
    },
    {
      "cell_type": "code",
      "source": [
        "class Learner:\n",
        "    institution = \"Knowledge Tree Academy\"\n",
        "\n",
        "    @classmethod\n",
        "    def update_institution(cls, new_institution):\n",
        "        cls.institution = new_institution\n",
        "\n",
        "Learner.update_institution(\"Wisdom Valley Institute\")\n",
        "print(Learner.institution)"
      ],
      "metadata": {
        "colab": {
          "base_uri": "https://localhost:8080/"
        },
        "id": "-1GzeJK8ZwpW",
        "outputId": "c1ea4b02-83fb-4b11-c9ac-f6a35d826998"
      },
      "execution_count": 16,
      "outputs": [
        {
          "output_type": "stream",
          "name": "stdout",
          "text": [
            "Wisdom Valley Institute\n"
          ]
        }
      ]
    },
    {
      "cell_type": "code",
      "source": [
        "class Square:\n",
        "    def __init__(self, side):\n",
        "        self._side = side\n",
        "\n",
        "    @property\n",
        "    def perimeter(self):\n",
        "        return 4 * self._side\n",
        "\n",
        "sq = Square(6)\n",
        "print(sq.perimeter)"
      ],
      "metadata": {
        "colab": {
          "base_uri": "https://localhost:8080/"
        },
        "id": "ITdAMExNZ0sY",
        "outputId": "a1494ade-a7e9-4bee-cd61-db6b8e433652"
      },
      "execution_count": 17,
      "outputs": [
        {
          "output_type": "stream",
          "name": "stdout",
          "text": [
            "24\n"
          ]
        }
      ]
    },
    {
      "cell_type": "code",
      "source": [
        "def introduce(name, profession):\n",
        "    print(f\"{name} works as a {profession}.\")\n",
        "\n",
        "introduce(\"Meisum\", \"Python Developer\")"
      ],
      "metadata": {
        "colab": {
          "base_uri": "https://localhost:8080/"
        },
        "id": "Awp2jky-aHDx",
        "outputId": "52fbcc85-bb5e-4d3e-fbce-f5993f27f6b9"
      },
      "execution_count": 19,
      "outputs": [
        {
          "output_type": "stream",
          "name": "stdout",
          "text": [
            "Meisum works as a Python Developer.\n"
          ]
        }
      ]
    },
    {
      "cell_type": "code",
      "source": [
        "def welcome(name=\"Visitor\"):\n",
        "    print(f\"Hello, {name}!\")\n",
        "\n",
        "welcome(\"Meisum\")\n",
        "welcome()"
      ],
      "metadata": {
        "colab": {
          "base_uri": "https://localhost:8080/"
        },
        "id": "dWd1XInFaHFO",
        "outputId": "9fede839-1162-4861-c5df-fc88130f31a8"
      },
      "execution_count": 20,
      "outputs": [
        {
          "output_type": "stream",
          "name": "stdout",
          "text": [
            "Hello, Meisum!\n",
            "Hello, Visitor!\n"
          ]
        }
      ]
    },
    {
      "cell_type": "code",
      "source": [
        "def mix_args(x, y=99, *others, **details):\n",
        "    print(\"x =\", x)\n",
        "    print(\"y =\", y)\n",
        "    print(\"others =\", others)\n",
        "    print(\"details =\", details)\n",
        "\n",
        "mix_args(5, 10, 20, 25, z=300, status=\"active\")"
      ],
      "metadata": {
        "colab": {
          "base_uri": "https://localhost:8080/"
        },
        "id": "PcY2galWaHI_",
        "outputId": "67183375-df9f-469f-e501-774573b5c743"
      },
      "execution_count": 21,
      "outputs": [
        {
          "output_type": "stream",
          "name": "stdout",
          "text": [
            "x = 5\n",
            "y = 10\n",
            "others = (20, 25)\n",
            "details = {'z': 300, 'status': 'active'}\n"
          ]
        }
      ]
    },
    {
      "cell_type": "code",
      "source": [
        "class Vehicle:\n",
        "    def __init__(self, model):\n",
        "        self.model = model\n",
        "\n",
        "    def start(self):\n",
        "        print(f\"{self.model} is now moving...\")\n",
        "\n",
        "v1 = Vehicle(\"Honda Civic\")\n",
        "v1.start()"
      ],
      "metadata": {
        "colab": {
          "base_uri": "https://localhost:8080/"
        },
        "id": "M0p4UzJLaHKs",
        "outputId": "3c88f896-75cb-4753-f613-0ec91bb72ec3"
      },
      "execution_count": 22,
      "outputs": [
        {
          "output_type": "stream",
          "name": "stdout",
          "text": [
            "Honda Civic is now moving...\n"
          ]
        }
      ]
    },
    {
      "cell_type": "code",
      "source": [
        "class Creature:\n",
        "    def sound(self):\n",
        "        print(\"Creature makes a noise\")\n",
        "\n",
        "class Cat(Creature):  # Inherits from Creature\n",
        "    def meow(self):\n",
        "        print(\"Cat says Meow\")\n",
        "\n",
        "kitty = Cat()\n",
        "kitty.sound()  # From Creature\n",
        "kitty.meow()   # From Cat"
      ],
      "metadata": {
        "colab": {
          "base_uri": "https://localhost:8080/"
        },
        "id": "88KlbZJVaHOG",
        "outputId": "3666fc60-9f39-43e8-e841-468a94f44b9e"
      },
      "execution_count": 23,
      "outputs": [
        {
          "output_type": "stream",
          "name": "stdout",
          "text": [
            "Creature makes a noise\n",
            "Cat says Meow\n"
          ]
        }
      ]
    }
  ]
}